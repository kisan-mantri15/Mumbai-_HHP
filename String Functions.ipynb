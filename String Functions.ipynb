{
 "cells": [
  {
   "cell_type": "markdown",
   "id": "df461c8a",
   "metadata": {},
   "source": [
    "## String Functions"
   ]
  },
  {
   "cell_type": "code",
   "execution_count": null,
   "id": "c5945ac0",
   "metadata": {},
   "outputs": [],
   "source": [
    "1. Capitalize()\n",
    "2. upper()\n",
    "3. lower()\n",
    "4. title()\n",
    "5. swapcase()\n",
    "6. lstrip()\n",
    "7. rtrip()\n",
    "8. strip()\n",
    "9. replace()\n",
    "10. count()\n",
    "11. index()\n",
    "12. find()\n",
    "13. split()\n",
    "14. casefold()\n",
    "15. endswith()\n",
    "16. startwith()\n",
    "17. isalpha()\n",
    "18. isalnum()\n",
    "19. isdecimal()\n",
    "20. isdigit()\n",
    "21. isnumeric()\n",
    "22. islower()\n",
    "23. isupper()\n",
    "24. istitle()\n",
    "25. isspace()\n",
    "26. zfill()\n",
    "27. center()"
   ]
  },
  {
   "cell_type": "code",
   "execution_count": null,
   "id": "f3600d6d",
   "metadata": {},
   "outputs": [],
   "source": [
    "a='1'\n",
    "a. # tab >> list of functions"
   ]
  },
  {
   "cell_type": "markdown",
   "id": "02086f4c",
   "metadata": {},
   "source": [
    "## 11. index()"
   ]
  },
  {
   "cell_type": "code",
   "execution_count": null,
   "id": "291b8f46",
   "metadata": {},
   "outputs": [],
   "source": [
    "string.index(substring, start_index, end_index)"
   ]
  },
  {
   "cell_type": "code",
   "execution_count": 175,
   "id": "1776e83f",
   "metadata": {},
   "outputs": [
    {
     "data": {
      "text/plain": [
       "0"
      ]
     },
     "execution_count": 175,
     "metadata": {},
     "output_type": "execute_result"
    }
   ],
   "source": [
    "string = 'Python is programming language. Python is used for Data Science'\n",
    "string.index('Python')"
   ]
  },
  {
   "cell_type": "code",
   "execution_count": 1,
   "id": "1b1270cd",
   "metadata": {},
   "outputs": [
    {
     "data": {
      "text/plain": [
       "0"
      ]
     },
     "execution_count": 1,
     "metadata": {},
     "output_type": "execute_result"
    }
   ],
   "source": [
    "string = 'Python is programming language. Python is used for Data Science'\n",
    "string.index('P')"
   ]
  },
  {
   "cell_type": "code",
   "execution_count": 1,
   "id": "bdd2bc60",
   "metadata": {},
   "outputs": [
    {
     "data": {
      "text/plain": [
       "22"
      ]
     },
     "execution_count": 1,
     "metadata": {},
     "output_type": "execute_result"
    }
   ],
   "source": [
    "string = 'Python is programming language. Python is used for Data Science'\n",
    "string.index('l')"
   ]
  },
  {
   "cell_type": "code",
   "execution_count": 2,
   "id": "84ba2a4f",
   "metadata": {},
   "outputs": [
    {
     "data": {
      "text/plain": [
       "'l'"
      ]
     },
     "execution_count": 2,
     "metadata": {},
     "output_type": "execute_result"
    }
   ],
   "source": [
    "string[22]"
   ]
  },
  {
   "cell_type": "code",
   "execution_count": 3,
   "id": "15d8e2f0",
   "metadata": {},
   "outputs": [
    {
     "data": {
      "text/plain": [
       "32"
      ]
     },
     "execution_count": 3,
     "metadata": {},
     "output_type": "execute_result"
    }
   ],
   "source": [
    "string = 'Python is programming language. python is used for Data Science'\n",
    "string.index('python')"
   ]
  },
  {
   "cell_type": "code",
   "execution_count": 4,
   "id": "aba19095",
   "metadata": {},
   "outputs": [
    {
     "data": {
      "text/plain": [
       "'p'"
      ]
     },
     "execution_count": 4,
     "metadata": {},
     "output_type": "execute_result"
    }
   ],
   "source": [
    "string[32]"
   ]
  },
  {
   "cell_type": "code",
   "execution_count": 5,
   "id": "bc2e42f4",
   "metadata": {},
   "outputs": [
    {
     "data": {
      "text/plain": [
       "5"
      ]
     },
     "execution_count": 5,
     "metadata": {},
     "output_type": "execute_result"
    }
   ],
   "source": [
    "str1 = 'python'\n",
    "str1.index('n')"
   ]
  },
  {
   "cell_type": "code",
   "execution_count": 6,
   "id": "91ffcfdb",
   "metadata": {},
   "outputs": [
    {
     "data": {
      "text/plain": [
       "2"
      ]
     },
     "execution_count": 6,
     "metadata": {},
     "output_type": "execute_result"
    }
   ],
   "source": [
    "str1 = 'python'\n",
    "str1.index('t')"
   ]
  },
  {
   "cell_type": "code",
   "execution_count": 7,
   "id": "a9f1e864",
   "metadata": {},
   "outputs": [
    {
     "data": {
      "text/plain": [
       "6"
      ]
     },
     "execution_count": 7,
     "metadata": {},
     "output_type": "execute_result"
    }
   ],
   "source": [
    "str1 = 'python class'\n",
    "str1.index(' ')"
   ]
  },
  {
   "cell_type": "code",
   "execution_count": 9,
   "id": "4a88dc85",
   "metadata": {},
   "outputs": [
    {
     "ename": "ValueError",
     "evalue": "substring not found",
     "output_type": "error",
     "traceback": [
      "\u001b[1;31m---------------------------------------------------------------------------\u001b[0m",
      "\u001b[1;31mValueError\u001b[0m                                Traceback (most recent call last)",
      "Input \u001b[1;32mIn [9]\u001b[0m, in \u001b[0;36m<cell line: 2>\u001b[1;34m()\u001b[0m\n\u001b[0;32m      1\u001b[0m string \u001b[38;5;241m=\u001b[39m \u001b[38;5;124m'\u001b[39m\u001b[38;5;124mPython is programming language. python is used for Data Science\u001b[39m\u001b[38;5;124m'\u001b[39m\n\u001b[1;32m----> 2\u001b[0m \u001b[43mstring\u001b[49m\u001b[38;5;241;43m.\u001b[39;49m\u001b[43mindex\u001b[49m\u001b[43m(\u001b[49m\u001b[38;5;124;43m'\u001b[39;49m\u001b[38;5;124;43mpython\u001b[39;49m\u001b[38;5;124;43m'\u001b[39;49m\u001b[43m,\u001b[49m\u001b[43m \u001b[49m\u001b[38;5;241;43m10\u001b[39;49m\u001b[43m,\u001b[49m\u001b[38;5;241;43m20\u001b[39;49m\u001b[43m)\u001b[49m\n",
      "\u001b[1;31mValueError\u001b[0m: substring not found"
     ]
    }
   ],
   "source": [
    "string = 'Python is programming language. python is used for Data Science'\n",
    "string.index('python', 10,20)"
   ]
  },
  {
   "cell_type": "code",
   "execution_count": 13,
   "id": "cd5f5b41",
   "metadata": {},
   "outputs": [
    {
     "data": {
      "text/plain": [
       "32"
      ]
     },
     "execution_count": 13,
     "metadata": {},
     "output_type": "execute_result"
    }
   ],
   "source": [
    "string = 'Python is programming language. python is used for Data Science'\n",
    "string.index('python', 10,38)"
   ]
  },
  {
   "cell_type": "code",
   "execution_count": 15,
   "id": "d6fca005",
   "metadata": {},
   "outputs": [
    {
     "data": {
      "text/plain": [
       "0"
      ]
     },
     "execution_count": 15,
     "metadata": {},
     "output_type": "execute_result"
    }
   ],
   "source": [
    "string = 'Python is programming language. python is used for Data Science'\n",
    "string.index('Python', 0,38)"
   ]
  },
  {
   "cell_type": "code",
   "execution_count": 17,
   "id": "f27941bd",
   "metadata": {},
   "outputs": [
    {
     "data": {
      "text/plain": [
       "32"
      ]
     },
     "execution_count": 17,
     "metadata": {},
     "output_type": "execute_result"
    }
   ],
   "source": [
    "string = 'Python is programming language. Python is used for Data Science'\n",
    "string.lower().index('python', 10,38)"
   ]
  },
  {
   "cell_type": "markdown",
   "id": "16ebcf91",
   "metadata": {},
   "source": [
    "## 12. find()"
   ]
  },
  {
   "cell_type": "code",
   "execution_count": 18,
   "id": "dea208f6",
   "metadata": {},
   "outputs": [
    {
     "data": {
      "text/plain": [
       "2"
      ]
     },
     "execution_count": 18,
     "metadata": {},
     "output_type": "execute_result"
    }
   ],
   "source": [
    "str2 = 'python'\n",
    "str2.find('t')"
   ]
  },
  {
   "cell_type": "code",
   "execution_count": 19,
   "id": "0cc1a3f8",
   "metadata": {},
   "outputs": [
    {
     "ename": "ValueError",
     "evalue": "substring not found",
     "output_type": "error",
     "traceback": [
      "\u001b[1;31m---------------------------------------------------------------------------\u001b[0m",
      "\u001b[1;31mValueError\u001b[0m                                Traceback (most recent call last)",
      "Input \u001b[1;32mIn [19]\u001b[0m, in \u001b[0;36m<cell line: 2>\u001b[1;34m()\u001b[0m\n\u001b[0;32m      1\u001b[0m str2 \u001b[38;5;241m=\u001b[39m \u001b[38;5;124m'\u001b[39m\u001b[38;5;124mPYTHON\u001b[39m\u001b[38;5;124m'\u001b[39m\n\u001b[1;32m----> 2\u001b[0m \u001b[43mstr2\u001b[49m\u001b[38;5;241;43m.\u001b[39;49m\u001b[43mindex\u001b[49m\u001b[43m(\u001b[49m\u001b[38;5;124;43m'\u001b[39;49m\u001b[38;5;124;43mt\u001b[39;49m\u001b[38;5;124;43m'\u001b[39;49m\u001b[43m)\u001b[49m\n",
      "\u001b[1;31mValueError\u001b[0m: substring not found"
     ]
    }
   ],
   "source": [
    "str2 = 'PYTHON'\n",
    "str2.index('t')"
   ]
  },
  {
   "cell_type": "code",
   "execution_count": 20,
   "id": "510ef67f",
   "metadata": {},
   "outputs": [
    {
     "data": {
      "text/plain": [
       "-1"
      ]
     },
     "execution_count": 20,
     "metadata": {},
     "output_type": "execute_result"
    }
   ],
   "source": [
    "str2 = 'PYTHON'\n",
    "str2.find('t')"
   ]
  },
  {
   "cell_type": "code",
   "execution_count": 24,
   "id": "332aa535",
   "metadata": {},
   "outputs": [
    {
     "name": "stdout",
     "output_type": "stream",
     "text": [
      "Index : -1\n",
      "Substring is not present in given string\n"
     ]
    }
   ],
   "source": [
    "str2 = 'PYTHON'\n",
    "index = str2.find('t')\n",
    "print('Index :', index )\n",
    "\n",
    "if index == -1:\n",
    "    print('Substring is not present in given string')\n",
    "    \n",
    "else:\n",
    "    print('Substring is present')"
   ]
  },
  {
   "cell_type": "code",
   "execution_count": 25,
   "id": "aa5287a7",
   "metadata": {},
   "outputs": [
    {
     "name": "stdout",
     "output_type": "stream",
     "text": [
      "Index : 0\n",
      "Substring is present\n"
     ]
    }
   ],
   "source": [
    "str2 = 'PYTHON'\n",
    "index = str2.find('P')\n",
    "print('Index :', index )\n",
    "\n",
    "if index == -1:\n",
    "    print('Substring is not present in given string')\n",
    "    \n",
    "else:\n",
    "    print('Substring is present')"
   ]
  },
  {
   "cell_type": "code",
   "execution_count": 27,
   "id": "3a9fa33c",
   "metadata": {},
   "outputs": [
    {
     "name": "stdout",
     "output_type": "stream",
     "text": [
      "Index : 10\n",
      "programming is present\n"
     ]
    }
   ],
   "source": [
    "str2 = 'Python is programming language'\n",
    "sub_string = 'programming'\n",
    "index = str2.find(sub_string)\n",
    "print('Index :', index )\n",
    "\n",
    "if index == -1:\n",
    "    print(f'{sub_string} is not present in given string')\n",
    "    \n",
    "else:\n",
    "    print(f'{sub_string} is present')"
   ]
  },
  {
   "cell_type": "code",
   "execution_count": 28,
   "id": "b3e198db",
   "metadata": {},
   "outputs": [
    {
     "name": "stdout",
     "output_type": "stream",
     "text": [
      "Index : -1\n",
      "Programming is not present in given string\n"
     ]
    }
   ],
   "source": [
    "str2 = 'Python is programming language'\n",
    "sub_string = 'Programming'\n",
    "index = str2.find(sub_string)\n",
    "print('Index :', index )\n",
    "\n",
    "if index == -1:\n",
    "    print(f'{sub_string} is not present in given string')\n",
    "    \n",
    "else:\n",
    "    print(f'{sub_string} is present')"
   ]
  },
  {
   "cell_type": "markdown",
   "id": "a7835021",
   "metadata": {},
   "source": [
    "## 13. split()"
   ]
  },
  {
   "cell_type": "code",
   "execution_count": null,
   "id": "5271a7d5",
   "metadata": {},
   "outputs": [],
   "source": [
    "string to list"
   ]
  },
  {
   "cell_type": "code",
   "execution_count": 29,
   "id": "e1c3e7a1",
   "metadata": {},
   "outputs": [
    {
     "data": {
      "text/plain": [
       "['Python', 'is', 'programming', 'language']"
      ]
     },
     "execution_count": 29,
     "metadata": {},
     "output_type": "execute_result"
    }
   ],
   "source": [
    "str1 = 'Python is programming language'\n",
    "str1.split()"
   ]
  },
  {
   "cell_type": "code",
   "execution_count": 31,
   "id": "5810d6cc",
   "metadata": {},
   "outputs": [
    {
     "name": "stdout",
     "output_type": "stream",
     "text": [
      "<class 'str'>\n",
      "<class 'list'>\n"
     ]
    }
   ],
   "source": [
    "str1 = 'Python is programming language'\n",
    "print(type(str1))\n",
    "string_list = str1.split()\n",
    "print(type(string_list))"
   ]
  },
  {
   "cell_type": "code",
   "execution_count": 32,
   "id": "d8ad3d7f",
   "metadata": {},
   "outputs": [
    {
     "data": {
      "text/plain": [
       "['Python', 'is', 'programming', 'language']"
      ]
     },
     "execution_count": 32,
     "metadata": {},
     "output_type": "execute_result"
    }
   ],
   "source": [
    "str1 = 'Python is programming language'\n",
    "str1.split(' ')"
   ]
  },
  {
   "cell_type": "code",
   "execution_count": 34,
   "id": "caa48ab9",
   "metadata": {},
   "outputs": [
    {
     "data": {
      "text/plain": [
       "['Python is', 'programming language']"
      ]
     },
     "execution_count": 34,
     "metadata": {},
     "output_type": "execute_result"
    }
   ],
   "source": [
    "str1 = 'Python is  programming language'\n",
    "str1.split('  ')"
   ]
  },
  {
   "cell_type": "code",
   "execution_count": 35,
   "id": "384318e0",
   "metadata": {},
   "outputs": [
    {
     "data": {
      "text/plain": [
       "['Python is', 'programming', 'language']"
      ]
     },
     "execution_count": 35,
     "metadata": {},
     "output_type": "execute_result"
    }
   ],
   "source": [
    "str1 = 'Python is  programming  language'\n",
    "str1.split('  ')"
   ]
  },
  {
   "cell_type": "code",
   "execution_count": 36,
   "id": "4ec5e18b",
   "metadata": {},
   "outputs": [
    {
     "data": {
      "text/plain": [
       "['Python ', '  programming language']"
      ]
     },
     "execution_count": 36,
     "metadata": {},
     "output_type": "execute_result"
    }
   ],
   "source": [
    "str1 = 'Python is  programming language'\n",
    "str1.split('is')"
   ]
  },
  {
   "cell_type": "code",
   "execution_count": 37,
   "id": "315fac94",
   "metadata": {},
   "outputs": [
    {
     "data": {
      "text/plain": [
       "['Python is  progr', 'mming l', 'ngu', 'ge']"
      ]
     },
     "execution_count": 37,
     "metadata": {},
     "output_type": "execute_result"
    }
   ],
   "source": [
    "str1 = 'Python is  programming language'\n",
    "str1.split('a')"
   ]
  },
  {
   "cell_type": "code",
   "execution_count": 38,
   "id": "a3c84945",
   "metadata": {},
   "outputs": [
    {
     "data": {
      "text/plain": [
       "['Python is  progr', 'mming l', 'ngu', '']"
      ]
     },
     "execution_count": 38,
     "metadata": {},
     "output_type": "execute_result"
    }
   ],
   "source": [
    "str1 = 'Python is  programming langua'\n",
    "str1.split('a')"
   ]
  },
  {
   "cell_type": "code",
   "execution_count": 41,
   "id": "26b4445a",
   "metadata": {},
   "outputs": [
    {
     "name": "stdout",
     "output_type": "stream",
     "text": [
      "['Data', 'science', 'is', 'an', 'interdisciplinary', 'field', 'that', 'uses', 'scientific', 'methods', ',', 'processes,', 'algorithms', 'and', 'systems', 'to', 'extract', 'or', 'extrapolate', 'knowledge', 'and', 'insights', 'from', 'noisy,', 'structured', 'and', 'unstructured', 'data,', 'and', 'apply', 'knowledge', 'from', 'data', 'across', 'a', 'broad', 'range', 'of', 'application', 'domains.'] 40\n"
     ]
    }
   ],
   "source": [
    "ds = '''Data science is an interdisciplinary field that uses scientific methods ,\n",
    "processes, algorithms and systems to extract or extrapolate knowledge and\n",
    "insights from noisy, structured and unstructured data, and apply knowledge\n",
    "from data across a broad range of application domains.'''\n",
    "\n",
    "list1 = ds.split()\n",
    "print(list1, len(list1))"
   ]
  },
  {
   "cell_type": "code",
   "execution_count": 2,
   "id": "2a894aef",
   "metadata": {},
   "outputs": [
    {
     "name": "stdout",
     "output_type": "stream",
     "text": [
      "['Data', 'science', 'is', 'an', 'interdisciplinary', 'field', 'that', 'uses', 'scientific', 'methods', ',', 'processes,', 'algorithms', 'and', 'systems', 'to', 'extract', 'or', 'extrapolate', 'knowledge', 'and', 'insights', 'from', 'noisy', ',', 'structured', 'and', 'unstructured', 'data,', 'and', 'apply', 'knowledge', 'from', 'data', 'across', 'a', 'broad', 'range', 'of', 'application', 'domains.'] 41\n"
     ]
    }
   ],
   "source": [
    "ds = '''Data science is an interdisciplinary field that uses scientific methods ,\n",
    "processes, algorithms and systems to extract or extrapolate knowledge and\n",
    "insights from noisy , structured and unstructured data, and apply knowledge\n",
    "from data across a broad range of application domains.'''\n",
    "\n",
    "list1 = ds.split()\n",
    "print(list1, len(list1))"
   ]
  },
  {
   "cell_type": "code",
   "execution_count": 44,
   "id": "9bfdbc22",
   "metadata": {},
   "outputs": [
    {
     "name": "stdout",
     "output_type": "stream",
     "text": [
      "['Data science is an interdisciplinary field that uses scientific methods ,', 'processes, algorithms and systems to extract or extrapolate knowledge and', 'insights from noisy, structured and unstructured data, and apply knowledge', 'from data across a broad range of application ', 'domains.'] 5\n"
     ]
    }
   ],
   "source": [
    "ds = '''Data science is an interdisciplinary field that uses scientific methods ,\n",
    "processes, algorithms and systems to extract or extrapolate knowledge and\n",
    "insights from noisy, structured and unstructured data, and apply knowledge\n",
    "from data across a broad range of application \n",
    "domains.'''\n",
    "\n",
    "list1 = ds.split('\\n')\n",
    "print(list1, len(list1))"
   ]
  },
  {
   "cell_type": "code",
   "execution_count": 43,
   "id": "f448ae3d",
   "metadata": {},
   "outputs": [
    {
     "data": {
      "text/plain": [
       "'Data science is an interdisciplinary field that uses scientific methods ,\\nprocesses, algorithms and systems to extract or extrapolate knowledge and\\ninsights from noisy, structured and unstructured data, and apply knowledge\\nfrom data across a broad range of application domains.'"
      ]
     },
     "execution_count": 43,
     "metadata": {},
     "output_type": "execute_result"
    }
   ],
   "source": [
    "ds"
   ]
  },
  {
   "cell_type": "markdown",
   "id": "32a1557a",
   "metadata": {},
   "source": [
    "## 14. casefold()"
   ]
  },
  {
   "cell_type": "code",
   "execution_count": 45,
   "id": "632c49dc",
   "metadata": {},
   "outputs": [
    {
     "data": {
      "text/plain": [
       "'python is easy langauge'"
      ]
     },
     "execution_count": 45,
     "metadata": {},
     "output_type": "execute_result"
    }
   ],
   "source": [
    "s = 'Python is easy Langauge'\n",
    "s.casefold()"
   ]
  },
  {
   "cell_type": "code",
   "execution_count": 46,
   "id": "35bdde2b",
   "metadata": {},
   "outputs": [
    {
     "data": {
      "text/plain": [
       "'python is easy langauge'"
      ]
     },
     "execution_count": 46,
     "metadata": {},
     "output_type": "execute_result"
    }
   ],
   "source": [
    "s = 'Python is easy Langauge'\n",
    "S = s.upper()\n",
    "S.casefold()"
   ]
  },
  {
   "cell_type": "code",
   "execution_count": 47,
   "id": "b80ad09c",
   "metadata": {},
   "outputs": [
    {
     "data": {
      "text/plain": [
       "'python is easy ß langauge'"
      ]
     },
     "execution_count": 47,
     "metadata": {},
     "output_type": "execute_result"
    }
   ],
   "source": [
    "s = 'Python is easy ß Langauge'    \n",
    "s.lower()"
   ]
  },
  {
   "cell_type": "code",
   "execution_count": 48,
   "id": "9d923ca9",
   "metadata": {},
   "outputs": [
    {
     "data": {
      "text/plain": [
       "'python is easy ss langauge'"
      ]
     },
     "execution_count": 48,
     "metadata": {},
     "output_type": "execute_result"
    }
   ],
   "source": [
    "s = 'Python is easy ß Langauge'    \n",
    "s.casefold()    # Germen Language"
   ]
  },
  {
   "cell_type": "markdown",
   "id": "57a7b23a",
   "metadata": {},
   "source": [
    "## 15. endswith()"
   ]
  },
  {
   "cell_type": "code",
   "execution_count": null,
   "id": "9ffb7839",
   "metadata": {},
   "outputs": [],
   "source": [
    "It will return True / False (boolean)"
   ]
  },
  {
   "cell_type": "code",
   "execution_count": 49,
   "id": "fad9aa93",
   "metadata": {},
   "outputs": [
    {
     "data": {
      "text/plain": [
       "True"
      ]
     },
     "execution_count": 49,
     "metadata": {},
     "output_type": "execute_result"
    }
   ],
   "source": [
    "str2 = 'Data'\n",
    "str2.endswith('a')"
   ]
  },
  {
   "cell_type": "code",
   "execution_count": 50,
   "id": "e5287c8b",
   "metadata": {},
   "outputs": [
    {
     "data": {
      "text/plain": [
       "False"
      ]
     },
     "execution_count": 50,
     "metadata": {},
     "output_type": "execute_result"
    }
   ],
   "source": [
    "str2 = 'Data'\n",
    "str2.endswith('A')"
   ]
  },
  {
   "cell_type": "code",
   "execution_count": 51,
   "id": "14a748e1",
   "metadata": {},
   "outputs": [
    {
     "data": {
      "text/plain": [
       "True"
      ]
     },
     "execution_count": 51,
     "metadata": {},
     "output_type": "execute_result"
    }
   ],
   "source": [
    "file_path = 'G:\\Velocity 27 Aug 22\\09_12_String_Functions\\test\\cv005_29443.txt'\n",
    "file_path.endswith('.txt')"
   ]
  },
  {
   "cell_type": "code",
   "execution_count": 52,
   "id": "ac7641ee",
   "metadata": {},
   "outputs": [
    {
     "data": {
      "text/plain": [
       "False"
      ]
     },
     "execution_count": 52,
     "metadata": {},
     "output_type": "execute_result"
    }
   ],
   "source": [
    "file_path = 'G:\\Velocity 27 Aug 22\\09_12_String_Functions\\test\\AmesHousing.csv'\n",
    "file_path.endswith('.txt')"
   ]
  },
  {
   "cell_type": "code",
   "execution_count": null,
   "id": "c86a2558",
   "metadata": {},
   "outputs": [],
   "source": [
    "File Extensions:\n",
    "    ipynb\n",
    "    py\n",
    "    docx\n",
    "    xlsx\n",
    "    csv\n",
    "    pdf\n",
    "    png"
   ]
  },
  {
   "cell_type": "code",
   "execution_count": 53,
   "id": "627b1c95",
   "metadata": {},
   "outputs": [
    {
     "ename": "ValueError",
     "evalue": "listdir: embedded null character in path",
     "output_type": "error",
     "traceback": [
      "\u001b[1;31m---------------------------------------------------------------------------\u001b[0m",
      "\u001b[1;31mValueError\u001b[0m                                Traceback (most recent call last)",
      "Input \u001b[1;32mIn [53]\u001b[0m, in \u001b[0;36m<cell line: 2>\u001b[1;34m()\u001b[0m\n\u001b[0;32m      1\u001b[0m \u001b[38;5;28;01mimport\u001b[39;00m \u001b[38;5;21;01mos\u001b[39;00m\n\u001b[1;32m----> 2\u001b[0m file_list \u001b[38;5;241m=\u001b[39m \u001b[43mos\u001b[49m\u001b[38;5;241;43m.\u001b[39;49m\u001b[43mlistdir\u001b[49m\u001b[43m(\u001b[49m\u001b[38;5;124;43m'\u001b[39;49m\u001b[38;5;124;43mG:\u001b[39;49m\u001b[38;5;124;43m\\\u001b[39;49m\u001b[38;5;124;43mVelocity 27 Aug 22\u001b[39;49m\u001b[38;5;130;43;01m\\0\u001b[39;49;00m\u001b[38;5;124;43m9_12_String_Functions\u001b[39;49m\u001b[38;5;130;43;01m\\t\u001b[39;49;00m\u001b[38;5;124;43mest\u001b[39;49m\u001b[38;5;124;43m'\u001b[39;49m\u001b[43m)\u001b[49m\n\u001b[0;32m      3\u001b[0m \u001b[38;5;28mprint\u001b[39m(file_list)\n",
      "\u001b[1;31mValueError\u001b[0m: listdir: embedded null character in path"
     ]
    }
   ],
   "source": [
    "import os\n",
    "file_list = os.listdir('G:\\Velocity 27 Aug 22\\09_12_String_Functions\\test')\n",
    "print(file_list)"
   ]
  },
  {
   "cell_type": "code",
   "execution_count": 54,
   "id": "2d9c313e",
   "metadata": {},
   "outputs": [
    {
     "name": "stdout",
     "output_type": "stream",
     "text": [
      "['AmesHousing.csv', 'Country_clusters.csv', 'cv002_15918.txt', 'cv003_11664.txt', 'cv004_11636.txt', 'cv005_29443.txt', 'cv006_15448.txt', 'diabetes.csv', 'Emp_Records.csv', 'Emp_Records.xlsx']\n"
     ]
    }
   ],
   "source": [
    "import os\n",
    "file_list = os.listdir(r'G:\\Velocity 27 Aug 22\\09_12_String_Functions\\test')\n",
    "print(file_list)"
   ]
  },
  {
   "cell_type": "code",
   "execution_count": 56,
   "id": "a38a7131",
   "metadata": {},
   "outputs": [
    {
     "name": "stdout",
     "output_type": "stream",
     "text": [
      "['AmesHousing.csv', 'Country_clusters.csv', 'cv002_15918.txt', 'cv003_11664.txt', 'cv004_11636.txt', 'cv005_29443.txt', 'cv006_15448.txt', 'diabetes.csv', 'Emp_Records.csv', 'Emp_Records.xlsx']\n"
     ]
    }
   ],
   "source": [
    "import os\n",
    "file_list = os.listdir('G:\\\\Velocity 27 Aug 22\\\\09_12_String_Functions\\\\test')\n",
    "print(file_list)"
   ]
  },
  {
   "cell_type": "code",
   "execution_count": 57,
   "id": "e037d807",
   "metadata": {},
   "outputs": [
    {
     "name": "stdout",
     "output_type": "stream",
     "text": [
      "['AmesHousing.csv', 'Country_clusters.csv', 'cv002_15918.txt', 'cv003_11664.txt', 'cv004_11636.txt', 'cv005_29443.txt', 'cv006_15448.txt', 'diabetes.csv', 'Emp_Records.csv', 'Emp_Records.xlsx']\n"
     ]
    }
   ],
   "source": [
    "import os\n",
    "file_list = os.listdir(r'G:/Velocity 27 Aug 22/09_12_String_Functions/test')\n",
    "print(file_list)"
   ]
  },
  {
   "cell_type": "code",
   "execution_count": 58,
   "id": "2f700048",
   "metadata": {},
   "outputs": [
    {
     "data": {
      "text/plain": [
       "'G:\\\\Velocity 27 Aug 22\\\\09_12_String_Functions'"
      ]
     },
     "execution_count": 58,
     "metadata": {},
     "output_type": "execute_result"
    }
   ],
   "source": [
    "os.getcwd()"
   ]
  },
  {
   "cell_type": "code",
   "execution_count": 62,
   "id": "c869d890",
   "metadata": {},
   "outputs": [
    {
     "name": "stdout",
     "output_type": "stream",
     "text": [
      "['cv006_15448.txt']\n"
     ]
    }
   ],
   "source": [
    "import os\n",
    "file_list = os.listdir('test/rancho')\n",
    "print(file_list)"
   ]
  },
  {
   "cell_type": "code",
   "execution_count": 67,
   "id": "e6131760",
   "metadata": {},
   "outputs": [
    {
     "name": "stdout",
     "output_type": "stream",
     "text": [
      "CSV file name is : AmesHousing.csv\n",
      "CSV file name is : Country_clusters.csv\n",
      "CSV file name is : diabetes.csv\n",
      "CSV file name is : Emp_Records.csv\n"
     ]
    }
   ],
   "source": [
    "import os\n",
    "file_list = os.listdir('test')\n",
    "# print(file_list)\n",
    "\n",
    "for file in file_list:\n",
    "    if file.endswith('csv'):\n",
    "        print('CSV file name is :', file)"
   ]
  },
  {
   "cell_type": "code",
   "execution_count": 71,
   "id": "4347aeef",
   "metadata": {},
   "outputs": [
    {
     "data": {
      "text/plain": [
       "True"
      ]
     },
     "execution_count": 71,
     "metadata": {},
     "output_type": "execute_result"
    }
   ],
   "source": [
    "r'G:/Velocity 27 Aug 22/09_12_String_Functions/test/cv006_15448.txt'.endswith('.txt')"
   ]
  },
  {
   "cell_type": "code",
   "execution_count": 68,
   "id": "49ddd67a",
   "metadata": {},
   "outputs": [
    {
     "data": {
      "text/plain": [
       "'c'"
      ]
     },
     "execution_count": 68,
     "metadata": {},
     "output_type": "execute_result"
    }
   ],
   "source": [
    "'class'[0]"
   ]
  },
  {
   "cell_type": "markdown",
   "id": "4a10b992",
   "metadata": {},
   "source": [
    "## 16. startswith()"
   ]
  },
  {
   "cell_type": "code",
   "execution_count": null,
   "id": "18d56667",
   "metadata": {},
   "outputs": [],
   "source": [
    "It will return True / False"
   ]
  },
  {
   "cell_type": "code",
   "execution_count": 72,
   "id": "20573906",
   "metadata": {},
   "outputs": [
    {
     "data": {
      "text/plain": [
       "True"
      ]
     },
     "execution_count": 72,
     "metadata": {},
     "output_type": "execute_result"
    }
   ],
   "source": [
    "str1 = 'Pune'\n",
    "str1.startswith('P')"
   ]
  },
  {
   "cell_type": "code",
   "execution_count": 73,
   "id": "4f8d2843",
   "metadata": {},
   "outputs": [
    {
     "data": {
      "text/plain": [
       "False"
      ]
     },
     "execution_count": 73,
     "metadata": {},
     "output_type": "execute_result"
    }
   ],
   "source": [
    "str1 = 'Pune'\n",
    "str1.startswith('u')"
   ]
  },
  {
   "cell_type": "code",
   "execution_count": 75,
   "id": "2a602194",
   "metadata": {},
   "outputs": [
    {
     "data": {
      "text/plain": [
       "True"
      ]
     },
     "execution_count": 75,
     "metadata": {},
     "output_type": "execute_result"
    }
   ],
   "source": [
    "str1 = 'Python and Data Science'\n",
    "str1.startswith('Python')"
   ]
  },
  {
   "cell_type": "markdown",
   "id": "c6d9e6eb",
   "metadata": {},
   "source": [
    "## 17. isalnum()"
   ]
  },
  {
   "cell_type": "code",
   "execution_count": null,
   "id": "2f4b0a59",
   "metadata": {},
   "outputs": [],
   "source": [
    "True/False\n",
    "True >> If string is alphanumeric\n",
    "\n",
    "alphanumeric >> a-z, A-Z, 0-9\n",
    "space is not allowed"
   ]
  },
  {
   "cell_type": "code",
   "execution_count": 76,
   "id": "f37cf490",
   "metadata": {},
   "outputs": [
    {
     "data": {
      "text/plain": [
       "True"
      ]
     },
     "execution_count": 76,
     "metadata": {},
     "output_type": "execute_result"
    }
   ],
   "source": [
    "str1 = 'python'  # lower\n",
    "str1.isalnum()"
   ]
  },
  {
   "cell_type": "code",
   "execution_count": 77,
   "id": "dd9953c7",
   "metadata": {},
   "outputs": [
    {
     "data": {
      "text/plain": [
       "True"
      ]
     },
     "execution_count": 77,
     "metadata": {},
     "output_type": "execute_result"
    }
   ],
   "source": [
    "str1 = 'DATA'  # upper\n",
    "str1.isalnum()"
   ]
  },
  {
   "cell_type": "code",
   "execution_count": 78,
   "id": "908da7ca",
   "metadata": {},
   "outputs": [
    {
     "data": {
      "text/plain": [
       "True"
      ]
     },
     "execution_count": 78,
     "metadata": {},
     "output_type": "execute_result"
    }
   ],
   "source": [
    "str1 = '1234'  # number\n",
    "str1.isalnum()"
   ]
  },
  {
   "cell_type": "code",
   "execution_count": 79,
   "id": "0c94769d",
   "metadata": {},
   "outputs": [
    {
     "data": {
      "text/plain": [
       "True"
      ]
     },
     "execution_count": 79,
     "metadata": {},
     "output_type": "execute_result"
    }
   ],
   "source": [
    "str1 = 'python1234'  # lower+numbers\n",
    "str1.isalnum()"
   ]
  },
  {
   "cell_type": "code",
   "execution_count": 80,
   "id": "112b1c2e",
   "metadata": {},
   "outputs": [
    {
     "data": {
      "text/plain": [
       "False"
      ]
     },
     "execution_count": 80,
     "metadata": {},
     "output_type": "execute_result"
    }
   ],
   "source": [
    "str1 = 'python 1234'  \n",
    "str1.isalnum()"
   ]
  },
  {
   "cell_type": "code",
   "execution_count": 81,
   "id": "8319b8f9",
   "metadata": {},
   "outputs": [
    {
     "data": {
      "text/plain": [
       "False"
      ]
     },
     "execution_count": 81,
     "metadata": {},
     "output_type": "execute_result"
    }
   ],
   "source": [
    "str1 = 'python_1234'  \n",
    "str1.isalnum()"
   ]
  },
  {
   "cell_type": "code",
   "execution_count": 82,
   "id": "716aff63",
   "metadata": {},
   "outputs": [
    {
     "data": {
      "text/plain": [
       "False"
      ]
     },
     "execution_count": 82,
     "metadata": {},
     "output_type": "execute_result"
    }
   ],
   "source": [
    "str1 = 'python@1234'  \n",
    "str1.isalnum()"
   ]
  },
  {
   "cell_type": "markdown",
   "id": "05dc6c91",
   "metadata": {},
   "source": [
    "## 18. isalpha()"
   ]
  },
  {
   "cell_type": "code",
   "execution_count": null,
   "id": "39c7cfe8",
   "metadata": {},
   "outputs": [],
   "source": [
    "True / False\n",
    "\n",
    "True >> If string contain only alphabets\n",
    "alphabets >> a-Z, A-Z"
   ]
  },
  {
   "cell_type": "code",
   "execution_count": 83,
   "id": "935dd10a",
   "metadata": {},
   "outputs": [
    {
     "data": {
      "text/plain": [
       "True"
      ]
     },
     "execution_count": 83,
     "metadata": {},
     "output_type": "execute_result"
    }
   ],
   "source": [
    "str2 = 'Machine'\n",
    "str2.isalpha()"
   ]
  },
  {
   "cell_type": "code",
   "execution_count": 84,
   "id": "162a78fa",
   "metadata": {},
   "outputs": [
    {
     "data": {
      "text/plain": [
       "False"
      ]
     },
     "execution_count": 84,
     "metadata": {},
     "output_type": "execute_result"
    }
   ],
   "source": [
    "str2 = '123'\n",
    "str2.isalpha()"
   ]
  },
  {
   "cell_type": "code",
   "execution_count": 85,
   "id": "66612967",
   "metadata": {},
   "outputs": [
    {
     "data": {
      "text/plain": [
       "True"
      ]
     },
     "execution_count": 85,
     "metadata": {},
     "output_type": "execute_result"
    }
   ],
   "source": [
    "str2 = '123'\n",
    "str2.isalnum()"
   ]
  },
  {
   "cell_type": "code",
   "execution_count": 87,
   "id": "aa405c68",
   "metadata": {},
   "outputs": [
    {
     "data": {
      "text/plain": [
       "False"
      ]
     },
     "execution_count": 87,
     "metadata": {},
     "output_type": "execute_result"
    }
   ],
   "source": [
    "str2 = 'data 1'\n",
    "str2.isalpha()"
   ]
  },
  {
   "cell_type": "code",
   "execution_count": 88,
   "id": "5fafef99",
   "metadata": {},
   "outputs": [
    {
     "data": {
      "text/plain": [
       "False"
      ]
     },
     "execution_count": 88,
     "metadata": {},
     "output_type": "execute_result"
    }
   ],
   "source": [
    "str2 = 'data@'\n",
    "str2.isalpha()"
   ]
  },
  {
   "cell_type": "code",
   "execution_count": 92,
   "id": "81a87575",
   "metadata": {},
   "outputs": [
    {
     "name": "stdout",
     "output_type": "stream",
     "text": [
      "True\n",
      "True\n"
     ]
    }
   ],
   "source": [
    "str3= 'PYTHON'\n",
    "print(str3.isalnum())\n",
    "print(str3.isalpha())"
   ]
  },
  {
   "cell_type": "code",
   "execution_count": 93,
   "id": "b2796efc",
   "metadata": {},
   "outputs": [
    {
     "name": "stdout",
     "output_type": "stream",
     "text": [
      "True\n",
      "False\n"
     ]
    }
   ],
   "source": [
    "str3= 'PYTHON1'\n",
    "print(str3.isalnum())\n",
    "print(str3.isalpha())"
   ]
  },
  {
   "cell_type": "code",
   "execution_count": 94,
   "id": "e5060011",
   "metadata": {},
   "outputs": [
    {
     "name": "stdout",
     "output_type": "stream",
     "text": [
      "False\n",
      "False\n"
     ]
    }
   ],
   "source": [
    "str3= 'PYTHON 1'\n",
    "print(str3.isalnum())\n",
    "print(str3.isalpha())"
   ]
  },
  {
   "cell_type": "code",
   "execution_count": 95,
   "id": "2a4e8673",
   "metadata": {},
   "outputs": [
    {
     "name": "stdout",
     "output_type": "stream",
     "text": [
      "True\n",
      "True\n"
     ]
    }
   ],
   "source": [
    "str3= 'PYTHON'\n",
    "print(str3.isalnum())\n",
    "print(str3.isalpha())"
   ]
  },
  {
   "cell_type": "markdown",
   "id": "ced1e839",
   "metadata": {},
   "source": [
    "## 19. isdecimal()"
   ]
  },
  {
   "cell_type": "code",
   "execution_count": null,
   "id": "7b5dfa00",
   "metadata": {},
   "outputs": [],
   "source": [
    "True/False\n",
    "\n",
    "True >> If string contains only digits (0-9)\n",
    "\n",
    "Space is not allowed"
   ]
  },
  {
   "cell_type": "code",
   "execution_count": 96,
   "id": "8a8dcc60",
   "metadata": {},
   "outputs": [
    {
     "data": {
      "text/plain": [
       "str"
      ]
     },
     "execution_count": 96,
     "metadata": {},
     "output_type": "execute_result"
    }
   ],
   "source": [
    "str4 = '1234'\n",
    "type(str4)"
   ]
  },
  {
   "cell_type": "code",
   "execution_count": 97,
   "id": "3665c902",
   "metadata": {},
   "outputs": [
    {
     "data": {
      "text/plain": [
       "int"
      ]
     },
     "execution_count": 97,
     "metadata": {},
     "output_type": "execute_result"
    }
   ],
   "source": [
    "str4 = '1234'\n",
    "type(int(str4))"
   ]
  },
  {
   "cell_type": "code",
   "execution_count": 98,
   "id": "d27e81ba",
   "metadata": {},
   "outputs": [
    {
     "data": {
      "text/plain": [
       "True"
      ]
     },
     "execution_count": 98,
     "metadata": {},
     "output_type": "execute_result"
    }
   ],
   "source": [
    "str4 = '1234'\n",
    "str4.isdecimal()"
   ]
  },
  {
   "cell_type": "code",
   "execution_count": 99,
   "id": "d749504e",
   "metadata": {},
   "outputs": [
    {
     "data": {
      "text/plain": [
       "True"
      ]
     },
     "execution_count": 99,
     "metadata": {},
     "output_type": "execute_result"
    }
   ],
   "source": [
    "str4 = '7898545465'\n",
    "str4.isdecimal()"
   ]
  },
  {
   "cell_type": "code",
   "execution_count": 100,
   "id": "b073c73b",
   "metadata": {},
   "outputs": [
    {
     "data": {
      "text/plain": [
       "False"
      ]
     },
     "execution_count": 100,
     "metadata": {},
     "output_type": "execute_result"
    }
   ],
   "source": [
    "str4 = '7898 5454 4565'\n",
    "str4.isdecimal()"
   ]
  },
  {
   "cell_type": "code",
   "execution_count": 101,
   "id": "edd5a267",
   "metadata": {},
   "outputs": [
    {
     "data": {
      "text/plain": [
       "True"
      ]
     },
     "execution_count": 101,
     "metadata": {},
     "output_type": "execute_result"
    }
   ],
   "source": [
    "adhar = '7898 5454 4565'\n",
    "adhar = adhar.replace(' ', '')\n",
    "\n",
    "adhar.isdecimal()"
   ]
  },
  {
   "cell_type": "code",
   "execution_count": 102,
   "id": "07147204",
   "metadata": {},
   "outputs": [
    {
     "data": {
      "text/plain": [
       "False"
      ]
     },
     "execution_count": 102,
     "metadata": {},
     "output_type": "execute_result"
    }
   ],
   "source": [
    "str5 = '1234a'\n",
    "str5.isdecimal()"
   ]
  },
  {
   "cell_type": "code",
   "execution_count": 103,
   "id": "336e751d",
   "metadata": {},
   "outputs": [
    {
     "data": {
      "text/plain": [
       "False"
      ]
     },
     "execution_count": 103,
     "metadata": {},
     "output_type": "execute_result"
    }
   ],
   "source": [
    "str5 = '1234.1'\n",
    "str5.isdecimal()"
   ]
  },
  {
   "cell_type": "code",
   "execution_count": 104,
   "id": "a6bd8522",
   "metadata": {},
   "outputs": [
    {
     "data": {
      "text/plain": [
       "False"
      ]
     },
     "execution_count": 104,
     "metadata": {},
     "output_type": "execute_result"
    }
   ],
   "source": [
    "str5 = '-12341'\n",
    "str5.isdecimal()"
   ]
  },
  {
   "cell_type": "markdown",
   "id": "4da4b331",
   "metadata": {},
   "source": [
    "## Unicode"
   ]
  },
  {
   "cell_type": "code",
   "execution_count": null,
   "id": "81041946",
   "metadata": {},
   "outputs": [],
   "source": [
    "\\u0030 >> 0\n",
    "\\u0031 >> 1\n",
    "\\u0032 >> 2\n",
    ".........\n",
    "\\u0039 >> 9"
   ]
  },
  {
   "cell_type": "code",
   "execution_count": 105,
   "id": "d2bc6416",
   "metadata": {},
   "outputs": [
    {
     "data": {
      "text/plain": [
       "'0'"
      ]
     },
     "execution_count": 105,
     "metadata": {},
     "output_type": "execute_result"
    }
   ],
   "source": [
    "'\\u0030'"
   ]
  },
  {
   "cell_type": "code",
   "execution_count": 106,
   "id": "436f6c95",
   "metadata": {},
   "outputs": [
    {
     "data": {
      "text/plain": [
       "0"
      ]
     },
     "execution_count": 106,
     "metadata": {},
     "output_type": "execute_result"
    }
   ],
   "source": [
    "int('\\u0030')"
   ]
  },
  {
   "cell_type": "code",
   "execution_count": 107,
   "id": "de734c6d",
   "metadata": {},
   "outputs": [
    {
     "data": {
      "text/plain": [
       "'9'"
      ]
     },
     "execution_count": 107,
     "metadata": {},
     "output_type": "execute_result"
    }
   ],
   "source": [
    "'\\u0039'"
   ]
  },
  {
   "cell_type": "code",
   "execution_count": 108,
   "id": "34adef76",
   "metadata": {},
   "outputs": [
    {
     "data": {
      "text/plain": [
       "'@'"
      ]
     },
     "execution_count": 108,
     "metadata": {},
     "output_type": "execute_result"
    }
   ],
   "source": [
    "'\\u0040'"
   ]
  },
  {
   "cell_type": "code",
   "execution_count": 109,
   "id": "7d0d1b81",
   "metadata": {},
   "outputs": [
    {
     "data": {
      "text/plain": [
       "'A'"
      ]
     },
     "execution_count": 109,
     "metadata": {},
     "output_type": "execute_result"
    }
   ],
   "source": [
    "'\\u0041'"
   ]
  },
  {
   "cell_type": "code",
   "execution_count": 110,
   "id": "5024dc94",
   "metadata": {},
   "outputs": [
    {
     "data": {
      "text/plain": [
       "True"
      ]
     },
     "execution_count": 110,
     "metadata": {},
     "output_type": "execute_result"
    }
   ],
   "source": [
    "str2 = '\\u0030'\n",
    "str2.isdecimal()"
   ]
  },
  {
   "cell_type": "code",
   "execution_count": 111,
   "id": "70c65f02",
   "metadata": {},
   "outputs": [
    {
     "data": {
      "text/plain": [
       "False"
      ]
     },
     "execution_count": 111,
     "metadata": {},
     "output_type": "execute_result"
    }
   ],
   "source": [
    "str2 = '\\u0040'\n",
    "str2.isdecimal()"
   ]
  },
  {
   "cell_type": "code",
   "execution_count": 112,
   "id": "6f91aa58",
   "metadata": {},
   "outputs": [
    {
     "data": {
      "text/plain": [
       "True"
      ]
     },
     "execution_count": 112,
     "metadata": {},
     "output_type": "execute_result"
    }
   ],
   "source": [
    "str2 = '\\u0041'\n",
    "str2.isalnum()"
   ]
  },
  {
   "cell_type": "code",
   "execution_count": 113,
   "id": "ba93bb1c",
   "metadata": {},
   "outputs": [
    {
     "data": {
      "text/plain": [
       "True"
      ]
     },
     "execution_count": 113,
     "metadata": {},
     "output_type": "execute_result"
    }
   ],
   "source": [
    "str2 = '\\u0041'\n",
    "str2.isalpha()"
   ]
  },
  {
   "cell_type": "markdown",
   "id": "50508603",
   "metadata": {},
   "source": [
    "## 20. isdigit()"
   ]
  },
  {
   "cell_type": "code",
   "execution_count": null,
   "id": "b22eec02",
   "metadata": {},
   "outputs": [],
   "source": [
    "True / False\n",
    "True  >> digits, subscripts, superscripts"
   ]
  },
  {
   "cell_type": "code",
   "execution_count": 114,
   "id": "f1713c5a",
   "metadata": {},
   "outputs": [
    {
     "data": {
      "text/plain": [
       "True"
      ]
     },
     "execution_count": 114,
     "metadata": {},
     "output_type": "execute_result"
    }
   ],
   "source": [
    "str4 = '12345'\n",
    "str4.isdigit()"
   ]
  },
  {
   "cell_type": "code",
   "execution_count": 115,
   "id": "170a3105",
   "metadata": {},
   "outputs": [
    {
     "data": {
      "text/plain": [
       "True"
      ]
     },
     "execution_count": 115,
     "metadata": {},
     "output_type": "execute_result"
    }
   ],
   "source": [
    "str4 = '\\u0030'\n",
    "str4.isdigit()"
   ]
  },
  {
   "cell_type": "code",
   "execution_count": 116,
   "id": "5103309e",
   "metadata": {},
   "outputs": [
    {
     "data": {
      "text/plain": [
       "False"
      ]
     },
     "execution_count": 116,
     "metadata": {},
     "output_type": "execute_result"
    }
   ],
   "source": [
    "str4 = '123 45'\n",
    "str4.isdigit()"
   ]
  },
  {
   "cell_type": "markdown",
   "id": "64f030e4",
   "metadata": {},
   "source": [
    "## 21. isnumeric()"
   ]
  },
  {
   "cell_type": "code",
   "execution_count": null,
   "id": "c0c343b5",
   "metadata": {},
   "outputs": [],
   "source": [
    "True /False\n",
    "True >> digits, subscripts, superscripts , valgar fractions (1/2, 2/3, 3/4)"
   ]
  },
  {
   "cell_type": "code",
   "execution_count": 117,
   "id": "2819e313",
   "metadata": {},
   "outputs": [
    {
     "data": {
      "text/plain": [
       "True"
      ]
     },
     "execution_count": 117,
     "metadata": {},
     "output_type": "execute_result"
    }
   ],
   "source": [
    "str4 = '12345'\n",
    "str4.isnumeric()"
   ]
  },
  {
   "cell_type": "code",
   "execution_count": 118,
   "id": "2e8d54c4",
   "metadata": {},
   "outputs": [
    {
     "data": {
      "text/plain": [
       "False"
      ]
     },
     "execution_count": 118,
     "metadata": {},
     "output_type": "execute_result"
    }
   ],
   "source": [
    "str4 = '12 345'\n",
    "str4.isnumeric()"
   ]
  },
  {
   "cell_type": "code",
   "execution_count": 120,
   "id": "ed5835e9",
   "metadata": {},
   "outputs": [
    {
     "data": {
      "text/plain": [
       "True"
      ]
     },
     "execution_count": 120,
     "metadata": {},
     "output_type": "execute_result"
    }
   ],
   "source": [
    "str4 = '\\u0030'\n",
    "str4.isnumeric()"
   ]
  },
  {
   "cell_type": "code",
   "execution_count": 121,
   "id": "aca21d32",
   "metadata": {},
   "outputs": [
    {
     "data": {
      "text/plain": [
       "'¾'"
      ]
     },
     "execution_count": 121,
     "metadata": {},
     "output_type": "execute_result"
    }
   ],
   "source": [
    "'\\u00BE'"
   ]
  },
  {
   "cell_type": "code",
   "execution_count": 122,
   "id": "a246d691",
   "metadata": {},
   "outputs": [
    {
     "data": {
      "text/plain": [
       "False"
      ]
     },
     "execution_count": 122,
     "metadata": {},
     "output_type": "execute_result"
    }
   ],
   "source": [
    "str3 = '\\u00BE'\n",
    "str3.isdecimal()"
   ]
  },
  {
   "cell_type": "code",
   "execution_count": 123,
   "id": "375cae38",
   "metadata": {},
   "outputs": [
    {
     "data": {
      "text/plain": [
       "False"
      ]
     },
     "execution_count": 123,
     "metadata": {},
     "output_type": "execute_result"
    }
   ],
   "source": [
    "str3 = '\\u00BE'\n",
    "str3.isdigit()"
   ]
  },
  {
   "cell_type": "code",
   "execution_count": 124,
   "id": "abb0d1a5",
   "metadata": {},
   "outputs": [
    {
     "data": {
      "text/plain": [
       "True"
      ]
     },
     "execution_count": 124,
     "metadata": {},
     "output_type": "execute_result"
    }
   ],
   "source": [
    "str3 = '\\u00BE'\n",
    "str3.isnumeric()"
   ]
  },
  {
   "cell_type": "code",
   "execution_count": 125,
   "id": "76a13d92",
   "metadata": {},
   "outputs": [
    {
     "name": "stdout",
     "output_type": "stream",
     "text": [
      "True\n",
      "True\n",
      "True\n"
     ]
    }
   ],
   "source": [
    "str2 = '1234'\n",
    "print(str2.isdecimal())  \n",
    "print(str2.isdigit())\n",
    "print(str2.isnumeric())"
   ]
  },
  {
   "cell_type": "code",
   "execution_count": 126,
   "id": "36453095",
   "metadata": {},
   "outputs": [
    {
     "name": "stdout",
     "output_type": "stream",
     "text": [
      "False\n",
      "False\n",
      "False\n"
     ]
    }
   ],
   "source": [
    "str2 = '12 34'\n",
    "print(str2.isdecimal())\n",
    "print(str2.isdigit())\n",
    "print(str2.isnumeric())"
   ]
  },
  {
   "cell_type": "code",
   "execution_count": 127,
   "id": "6a694c9f",
   "metadata": {},
   "outputs": [
    {
     "name": "stdout",
     "output_type": "stream",
     "text": [
      "True\n",
      "True\n",
      "True\n"
     ]
    }
   ],
   "source": [
    "str2 = '\\u0034'\n",
    "print(str2.isdecimal())\n",
    "print(str2.isdigit())\n",
    "print(str2.isnumeric())"
   ]
  },
  {
   "cell_type": "code",
   "execution_count": 128,
   "id": "b864be1a",
   "metadata": {},
   "outputs": [
    {
     "name": "stdout",
     "output_type": "stream",
     "text": [
      "False\n",
      "False\n",
      "True\n"
     ]
    }
   ],
   "source": [
    "str2 = '\\u00BD'\n",
    "print(str2.isdecimal())\n",
    "print(str2.isdigit())\n",
    "print(str2.isnumeric())"
   ]
  },
  {
   "cell_type": "code",
   "execution_count": 129,
   "id": "1cde5ece",
   "metadata": {},
   "outputs": [
    {
     "data": {
      "text/plain": [
       "'½'"
      ]
     },
     "execution_count": 129,
     "metadata": {},
     "output_type": "execute_result"
    }
   ],
   "source": [
    "'\\u00BD'"
   ]
  },
  {
   "cell_type": "code",
   "execution_count": 130,
   "id": "86068f60",
   "metadata": {},
   "outputs": [
    {
     "data": {
      "text/plain": [
       "'²'"
      ]
     },
     "execution_count": 130,
     "metadata": {},
     "output_type": "execute_result"
    }
   ],
   "source": [
    "'\\u00B2'"
   ]
  },
  {
   "cell_type": "code",
   "execution_count": 131,
   "id": "c41a0c9d",
   "metadata": {},
   "outputs": [
    {
     "name": "stdout",
     "output_type": "stream",
     "text": [
      "False\n",
      "True\n",
      "True\n"
     ]
    }
   ],
   "source": [
    "str2 = '\\u00B2'\n",
    "print(str2.isdecimal())\n",
    "print(str2.isdigit())\n",
    "print(str2.isnumeric())"
   ]
  },
  {
   "cell_type": "markdown",
   "id": "d8c5bc75",
   "metadata": {},
   "source": [
    "## 22. islower()"
   ]
  },
  {
   "cell_type": "code",
   "execution_count": null,
   "id": "d78f41d3",
   "metadata": {},
   "outputs": [],
   "source": [
    "True / False\n",
    "True >> If all alphabets are in lower case\n",
    "space and special char are allowed"
   ]
  },
  {
   "cell_type": "code",
   "execution_count": 132,
   "id": "f207466f",
   "metadata": {},
   "outputs": [
    {
     "data": {
      "text/plain": [
       "False"
      ]
     },
     "execution_count": 132,
     "metadata": {},
     "output_type": "execute_result"
    }
   ],
   "source": [
    "str1 = 'Virat Kohli'\n",
    "str1.islower()"
   ]
  },
  {
   "cell_type": "code",
   "execution_count": 133,
   "id": "a8ca96aa",
   "metadata": {},
   "outputs": [
    {
     "data": {
      "text/plain": [
       "True"
      ]
     },
     "execution_count": 133,
     "metadata": {},
     "output_type": "execute_result"
    }
   ],
   "source": [
    "str1 = 'virat kohli'\n",
    "str1.islower()"
   ]
  },
  {
   "cell_type": "code",
   "execution_count": 134,
   "id": "a2914c45",
   "metadata": {},
   "outputs": [
    {
     "data": {
      "text/plain": [
       "True"
      ]
     },
     "execution_count": 134,
     "metadata": {},
     "output_type": "execute_result"
    }
   ],
   "source": [
    "str1 = 'virat@kohli'\n",
    "str1.islower()"
   ]
  },
  {
   "cell_type": "code",
   "execution_count": 135,
   "id": "949bb2cd",
   "metadata": {},
   "outputs": [
    {
     "data": {
      "text/plain": [
       "True"
      ]
     },
     "execution_count": 135,
     "metadata": {},
     "output_type": "execute_result"
    }
   ],
   "source": [
    "str1 = 'virat1kohli'\n",
    "str1.islower()"
   ]
  },
  {
   "cell_type": "code",
   "execution_count": 136,
   "id": "c9ff729c",
   "metadata": {},
   "outputs": [
    {
     "data": {
      "text/plain": [
       "'data science'"
      ]
     },
     "execution_count": 136,
     "metadata": {},
     "output_type": "execute_result"
    }
   ],
   "source": [
    "str1 = 'data science'\n",
    "str1.lower()"
   ]
  },
  {
   "cell_type": "markdown",
   "id": "9852588d",
   "metadata": {},
   "source": [
    "## 23. isupper()"
   ]
  },
  {
   "cell_type": "code",
   "execution_count": null,
   "id": "859d4a71",
   "metadata": {},
   "outputs": [],
   "source": [
    "True / False\n",
    "True >> If all alphabets are in upper case\n",
    "space and special char are allowed"
   ]
  },
  {
   "cell_type": "code",
   "execution_count": 138,
   "id": "cc30b414",
   "metadata": {},
   "outputs": [
    {
     "data": {
      "text/plain": [
       "False"
      ]
     },
     "execution_count": 138,
     "metadata": {},
     "output_type": "execute_result"
    }
   ],
   "source": [
    "str1 = 'Python'\n",
    "str1.isupper()"
   ]
  },
  {
   "cell_type": "code",
   "execution_count": 139,
   "id": "2226d46a",
   "metadata": {},
   "outputs": [
    {
     "data": {
      "text/plain": [
       "True"
      ]
     },
     "execution_count": 139,
     "metadata": {},
     "output_type": "execute_result"
    }
   ],
   "source": [
    "str1 = 'PYTHON'\n",
    "str1.isupper()"
   ]
  },
  {
   "cell_type": "code",
   "execution_count": 140,
   "id": "7ebb084c",
   "metadata": {},
   "outputs": [
    {
     "data": {
      "text/plain": [
       "False"
      ]
     },
     "execution_count": 140,
     "metadata": {},
     "output_type": "execute_result"
    }
   ],
   "source": [
    "str1 = 'Data1'\n",
    "str1.isupper()"
   ]
  },
  {
   "cell_type": "code",
   "execution_count": 141,
   "id": "4e8774e8",
   "metadata": {},
   "outputs": [
    {
     "data": {
      "text/plain": [
       "True"
      ]
     },
     "execution_count": 141,
     "metadata": {},
     "output_type": "execute_result"
    }
   ],
   "source": [
    "str1 = 'DATA1'\n",
    "str1.isupper()"
   ]
  },
  {
   "cell_type": "code",
   "execution_count": 142,
   "id": "c60fcd85",
   "metadata": {},
   "outputs": [
    {
     "data": {
      "text/plain": [
       "False"
      ]
     },
     "execution_count": 142,
     "metadata": {},
     "output_type": "execute_result"
    }
   ],
   "source": [
    "str4 = '     '\n",
    "str4.islower()"
   ]
  },
  {
   "cell_type": "code",
   "execution_count": 143,
   "id": "3eb37825",
   "metadata": {},
   "outputs": [
    {
     "data": {
      "text/plain": [
       "False"
      ]
     },
     "execution_count": 143,
     "metadata": {},
     "output_type": "execute_result"
    }
   ],
   "source": [
    "str4 = '     '\n",
    "str4.isupper()"
   ]
  },
  {
   "cell_type": "code",
   "execution_count": 144,
   "id": "75f47151",
   "metadata": {},
   "outputs": [
    {
     "data": {
      "text/plain": [
       "True"
      ]
     },
     "execution_count": 144,
     "metadata": {},
     "output_type": "execute_result"
    }
   ],
   "source": [
    "str4 = '  a   '\n",
    "str4.islower()"
   ]
  },
  {
   "cell_type": "code",
   "execution_count": 145,
   "id": "dba35963",
   "metadata": {},
   "outputs": [
    {
     "data": {
      "text/plain": [
       "True"
      ]
     },
     "execution_count": 145,
     "metadata": {},
     "output_type": "execute_result"
    }
   ],
   "source": [
    "str4 = '  R   '\n",
    "str4.isupper()"
   ]
  },
  {
   "cell_type": "markdown",
   "id": "ae84af67",
   "metadata": {},
   "source": [
    "## 24. istitle()"
   ]
  },
  {
   "cell_type": "code",
   "execution_count": 146,
   "id": "32c9a9ba",
   "metadata": {},
   "outputs": [
    {
     "data": {
      "text/plain": [
       "True"
      ]
     },
     "execution_count": 146,
     "metadata": {},
     "output_type": "execute_result"
    }
   ],
   "source": [
    "str3 = 'Data Science'\n",
    "str3.istitle()"
   ]
  },
  {
   "cell_type": "code",
   "execution_count": 147,
   "id": "6c50b42a",
   "metadata": {},
   "outputs": [
    {
     "data": {
      "text/plain": [
       "False"
      ]
     },
     "execution_count": 147,
     "metadata": {},
     "output_type": "execute_result"
    }
   ],
   "source": [
    "str3 = 'Data science'\n",
    "str3.istitle()"
   ]
  },
  {
   "cell_type": "code",
   "execution_count": 148,
   "id": "e4621fca",
   "metadata": {},
   "outputs": [
    {
     "data": {
      "text/plain": [
       "True"
      ]
     },
     "execution_count": 148,
     "metadata": {},
     "output_type": "execute_result"
    }
   ],
   "source": [
    "str3 = 'Data Science @#$%'\n",
    "str3.istitle()"
   ]
  },
  {
   "cell_type": "code",
   "execution_count": 149,
   "id": "09a587da",
   "metadata": {},
   "outputs": [
    {
     "data": {
      "text/plain": [
       "True"
      ]
     },
     "execution_count": 149,
     "metadata": {},
     "output_type": "execute_result"
    }
   ],
   "source": [
    "str3 = 'Data Science1234'\n",
    "str3.istitle()"
   ]
  },
  {
   "cell_type": "markdown",
   "id": "5fd465b9",
   "metadata": {},
   "source": [
    "## 25. isspace()"
   ]
  },
  {
   "cell_type": "code",
   "execution_count": null,
   "id": "5481670c",
   "metadata": {},
   "outputs": [],
   "source": [
    "True >> if string contain only spaces "
   ]
  },
  {
   "cell_type": "code",
   "execution_count": 150,
   "id": "57c7cc0e",
   "metadata": {},
   "outputs": [
    {
     "data": {
      "text/plain": [
       "False"
      ]
     },
     "execution_count": 150,
     "metadata": {},
     "output_type": "execute_result"
    }
   ],
   "source": [
    "str1 = '                   8'\n",
    "str1.isspace()"
   ]
  },
  {
   "cell_type": "code",
   "execution_count": 151,
   "id": "f083b72b",
   "metadata": {},
   "outputs": [
    {
     "data": {
      "text/plain": [
       "True"
      ]
     },
     "execution_count": 151,
     "metadata": {},
     "output_type": "execute_result"
    }
   ],
   "source": [
    "str1 = '                   '\n",
    "str1.isspace()"
   ]
  },
  {
   "cell_type": "code",
   "execution_count": 152,
   "id": "2f731d52",
   "metadata": {},
   "outputs": [
    {
     "data": {
      "text/plain": [
       "True"
      ]
     },
     "execution_count": 152,
     "metadata": {},
     "output_type": "execute_result"
    }
   ],
   "source": [
    "str1 = '             '\n",
    "str1.isspace()"
   ]
  },
  {
   "cell_type": "code",
   "execution_count": 157,
   "id": "a6f7efd6",
   "metadata": {},
   "outputs": [
    {
     "data": {
      "text/plain": [
       "False"
      ]
     },
     "execution_count": 157,
     "metadata": {},
     "output_type": "execute_result"
    }
   ],
   "source": [
    "str1 = ''\n",
    "str1.isspace()"
   ]
  },
  {
   "cell_type": "code",
   "execution_count": 158,
   "id": "3aeba612",
   "metadata": {},
   "outputs": [
    {
     "data": {
      "text/plain": [
       "'Data science is an interdisciplinary field that uses scientific methods ,\\n                  \\n          \\n         \\nprocesses, algorithms and systems to extract or extrapolate knowledge and\\n         \\n                    \\ninsights from noisy, structured and unstructured data, and apply knowledge\\n            \\n           \\nfrom data across a broad range of application \\n           \\n                                      \\ndomains.'"
      ]
     },
     "execution_count": 158,
     "metadata": {},
     "output_type": "execute_result"
    }
   ],
   "source": [
    "ds = '''Data science is an interdisciplinary field that uses scientific methods ,\n",
    "                  \n",
    "          \n",
    "         \n",
    "processes, algorithms and systems to extract or extrapolate knowledge and\n",
    "         \n",
    "                    \n",
    "insights from noisy, structured and unstructured data, and apply knowledge\n",
    "            \n",
    "           \n",
    "from data across a broad range of application \n",
    "           \n",
    "                                      \n",
    "domains.'''\n",
    "\n",
    "ds"
   ]
  },
  {
   "cell_type": "code",
   "execution_count": 159,
   "id": "6195f5a4",
   "metadata": {},
   "outputs": [
    {
     "name": "stdout",
     "output_type": "stream",
     "text": [
      "14 ['Data science is an interdisciplinary field that uses scientific methods ,', '                  ', '          ', '         ', 'processes, algorithms and systems to extract or extrapolate knowledge and', '         ', '                    ', 'insights from noisy, structured and unstructured data, and apply knowledge', '            ', '           ', 'from data across a broad range of application ', '           ', '                                      ', 'domains.']\n"
     ]
    }
   ],
   "source": [
    "list1 = ds.split('\\n')\n",
    "print(len(list1), list1)"
   ]
  },
  {
   "cell_type": "code",
   "execution_count": 160,
   "id": "971d4c42",
   "metadata": {},
   "outputs": [
    {
     "name": "stdout",
     "output_type": "stream",
     "text": [
      "Line is  :                   \n",
      "Line is  :           \n",
      "Line is  :          \n",
      "Line is  :          \n",
      "Line is  :                     \n",
      "Line is  :             \n",
      "Line is  :            \n",
      "Line is  :            \n",
      "Line is  :                                       \n"
     ]
    }
   ],
   "source": [
    "for line in list1:\n",
    "    if line.isspace():\n",
    "        print('Line is  :', line)"
   ]
  },
  {
   "cell_type": "code",
   "execution_count": 161,
   "id": "c481ae12",
   "metadata": {},
   "outputs": [
    {
     "name": "stdout",
     "output_type": "stream",
     "text": [
      "Line is  : Data science is an interdisciplinary field that uses scientific methods ,\n",
      "Line is  : processes, algorithms and systems to extract or extrapolate knowledge and\n",
      "Line is  : insights from noisy, structured and unstructured data, and apply knowledge\n",
      "Line is  : from data across a broad range of application \n",
      "Line is  : domains.\n"
     ]
    }
   ],
   "source": [
    "for line in list1:\n",
    "    if not line.isspace():\n",
    "        print('Line is  :', line)"
   ]
  },
  {
   "cell_type": "code",
   "execution_count": null,
   "id": "ba481eb3",
   "metadata": {},
   "outputs": [],
   "source": [
    "Web scraping >> Website Extract\n",
    "OCR >> extraction"
   ]
  },
  {
   "cell_type": "markdown",
   "id": "e3d57620",
   "metadata": {},
   "source": [
    "## 26. zfill()"
   ]
  },
  {
   "cell_type": "code",
   "execution_count": null,
   "id": "5247db92",
   "metadata": {},
   "outputs": [],
   "source": [
    "zero filling   >>>>>>>>>(range-word_count=remaing zero fillup)"
   ]
  },
  {
   "cell_type": "code",
   "execution_count": 163,
   "id": "4e4f300d",
   "metadata": {},
   "outputs": [
    {
     "data": {
      "text/plain": [
       "'0000python'"
      ]
     },
     "execution_count": 163,
     "metadata": {},
     "output_type": "execute_result"
    }
   ],
   "source": [
    "str2 = 'python'  # 6\n",
    "str2.zfill(10)"
   ]
  },
  {
   "cell_type": "code",
   "execution_count": 164,
   "id": "9cecd877",
   "metadata": {},
   "outputs": [
    {
     "data": {
      "text/plain": [
       "'000000000python'"
      ]
     },
     "execution_count": 164,
     "metadata": {},
     "output_type": "execute_result"
    }
   ],
   "source": [
    "str2 = 'python'  # 6\n",
    "str2.zfill(15)"
   ]
  },
  {
   "cell_type": "code",
   "execution_count": 165,
   "id": "df35e8d2",
   "metadata": {},
   "outputs": [
    {
     "data": {
      "text/plain": [
       "'python'"
      ]
     },
     "execution_count": 165,
     "metadata": {},
     "output_type": "execute_result"
    }
   ],
   "source": [
    "str2 = 'python'  # 6\n",
    "str2.zfill(6)"
   ]
  },
  {
   "cell_type": "code",
   "execution_count": 166,
   "id": "2e08cc16",
   "metadata": {},
   "outputs": [
    {
     "data": {
      "text/plain": [
       "'python'"
      ]
     },
     "execution_count": 166,
     "metadata": {},
     "output_type": "execute_result"
    }
   ],
   "source": [
    "str2 = 'python'  # 6\n",
    "str2.zfill(5)"
   ]
  },
  {
   "cell_type": "markdown",
   "id": "9df96de9",
   "metadata": {},
   "source": [
    "## 27. center()"
   ]
  },
  {
   "cell_type": "code",
   "execution_count": 167,
   "id": "3b7ed889",
   "metadata": {},
   "outputs": [
    {
     "data": {
      "text/plain": [
       "' Velocity '"
      ]
     },
     "execution_count": 167,
     "metadata": {},
     "output_type": "execute_result"
    }
   ],
   "source": [
    "str1 = 'Velocity'\n",
    "str1.center(10)"
   ]
  },
  {
   "cell_type": "code",
   "execution_count": 168,
   "id": "472543b3",
   "metadata": {},
   "outputs": [
    {
     "data": {
      "text/plain": [
       "'      Velocity      '"
      ]
     },
     "execution_count": 168,
     "metadata": {},
     "output_type": "execute_result"
    }
   ],
   "source": [
    "str1 = 'Velocity'   >>>8words range=20  20-8=12  so 6 spaces right and left side\n",
    "str1.center(20)"
   ]
  },
  {
   "cell_type": "code",
   "execution_count": 169,
   "id": "375b3ad3",
   "metadata": {},
   "outputs": [
    {
     "data": {
      "text/plain": [
       "'  Velocity '"
      ]
     },
     "execution_count": 169,
     "metadata": {},
     "output_type": "execute_result"
    }
   ],
   "source": [
    "str1 = 'Velocity'\n",
    "str1.center(11)"
   ]
  },
  {
   "cell_type": "code",
   "execution_count": null,
   "id": "e38d232c",
   "metadata": {},
   "outputs": [],
   "source": [
    "#################### end ################"
   ]
  },
  {
   "cell_type": "code",
   "execution_count": 173,
   "id": "c3de9048",
   "metadata": {},
   "outputs": [
    {
     "data": {
      "text/plain": [
       "'##################### Result #####################'"
      ]
     },
     "execution_count": 173,
     "metadata": {},
     "output_type": "execute_result"
    }
   ],
   "source": [
    "str3 = ' Result '\n",
    "str3.center(50, '#')"
   ]
  },
  {
   "cell_type": "code",
   "execution_count": 174,
   "id": "1027a537",
   "metadata": {},
   "outputs": [
    {
     "data": {
      "text/plain": [
       "'+++++++++++++++++++++ Result +++++++++++++++++++++'"
      ]
     },
     "execution_count": 174,
     "metadata": {},
     "output_type": "execute_result"
    }
   ],
   "source": [
    "str3 = ' Result '\n",
    "str3.center(50, '+')"
   ]
  },
  {
   "cell_type": "code",
   "execution_count": 4,
   "id": "561588aa",
   "metadata": {},
   "outputs": [
    {
     "data": {
      "text/plain": [
       "'++ Result ++'"
      ]
     },
     "execution_count": 4,
     "metadata": {},
     "output_type": "execute_result"
    }
   ],
   "source": [
    "str3 = ' Result '\n",
    "str3.center(12, '+')"
   ]
  },
  {
   "cell_type": "code",
   "execution_count": 1,
   "id": "bfa4cae6",
   "metadata": {},
   "outputs": [
    {
     "data": {
      "text/plain": [
       "10"
      ]
     },
     "execution_count": 1,
     "metadata": {},
     "output_type": "execute_result"
    }
   ],
   "source": [
    "a=10\n",
    "a"
   ]
  },
  {
   "cell_type": "code",
   "execution_count": 2,
   "id": "a99a91f5",
   "metadata": {},
   "outputs": [
    {
     "data": {
      "text/plain": [
       "20"
      ]
     },
     "execution_count": 2,
     "metadata": {},
     "output_type": "execute_result"
    }
   ],
   "source": [
    "a=20\n",
    "a"
   ]
  },
  {
   "cell_type": "code",
   "execution_count": 11,
   "id": "5e7cec59",
   "metadata": {
    "scrolled": true
   },
   "outputs": [
    {
     "ename": "ValueError",
     "evalue": "Unknown format code '%' for object of type 'str'",
     "output_type": "error",
     "traceback": [
      "\u001b[1;31m---------------------------------------------------------------------------\u001b[0m",
      "\u001b[1;31mValueError\u001b[0m                                Traceback (most recent call last)",
      "\u001b[1;32mC:\\Users\\ASHKIT~1\\AppData\\Local\\Temp/ipykernel_9756/1520811748.py\u001b[0m in \u001b[0;36m<module>\u001b[1;34m\u001b[0m\n\u001b[0;32m      1\u001b[0m \u001b[0mpercent\u001b[0m\u001b[1;33m=\u001b[0m\u001b[1;34m'0.05'\u001b[0m\u001b[1;33m\u001b[0m\u001b[1;33m\u001b[0m\u001b[0m\n\u001b[1;32m----> 2\u001b[1;33m \u001b[0mprint\u001b[0m\u001b[1;33m(\u001b[0m\u001b[0mpercent\u001b[0m\u001b[1;33m,\u001b[0m\u001b[1;34m':'\u001b[0m\u001b[1;33m,\u001b[0m\u001b[0mformat\u001b[0m\u001b[1;33m(\u001b[0m\u001b[0mpercent\u001b[0m\u001b[1;33m,\u001b[0m\u001b[1;34m'.0%'\u001b[0m\u001b[1;33m)\u001b[0m\u001b[1;33m)\u001b[0m\u001b[1;33m\u001b[0m\u001b[1;33m\u001b[0m\u001b[0m\n\u001b[0m",
      "\u001b[1;31mValueError\u001b[0m: Unknown format code '%' for object of type 'str'"
     ]
    }
   ],
   "source": [
    "percent='0.05'\n",
    "print(percent,':',format(percent,'.0%'))"
   ]
  },
  {
   "cell_type": "code",
   "execution_count": 15,
   "id": "bf75a6eb",
   "metadata": {},
   "outputs": [
    {
     "name": "stdout",
     "output_type": "stream",
     "text": [
      "removed duplicates are: eeeeeeeeeeeeeeee\n"
     ]
    }
   ],
   "source": [
    "str11='enter the string'\n",
    "output=''\n",
    "for char in str11:\n",
    "    if char is not output:\n",
    "        output=output+ch\n",
    "print('removed duplicates are:',output)"
   ]
  },
  {
   "cell_type": "code",
   "execution_count": 17,
   "id": "6934f408",
   "metadata": {},
   "outputs": [
    {
     "name": "stdout",
     "output_type": "stream",
     "text": [
      "enter the stringaaaabbbbccccdddd\n",
      "removed duplicates are: eeeeeeeeeeeeeeee\n"
     ]
    }
   ],
   "source": [
    "str11=input('enter the string')\n",
    "output=''\n",
    "for char in str11:\n",
    "    if char is not output:\n",
    "        output=output+ch\n",
    "print('removed duplicates are:',output)"
   ]
  },
  {
   "cell_type": "code",
   "execution_count": null,
   "id": "b1b8c4bb",
   "metadata": {},
   "outputs": [],
   "source": []
  },
  {
   "cell_type": "code",
   "execution_count": null,
   "id": "8e8de99d",
   "metadata": {},
   "outputs": [],
   "source": []
  },
  {
   "cell_type": "code",
   "execution_count": null,
   "id": "d573e641",
   "metadata": {},
   "outputs": [],
   "source": []
  }
 ],
 "metadata": {
  "kernelspec": {
   "display_name": "Python 3 (ipykernel)",
   "language": "python",
   "name": "python3"
  },
  "language_info": {
   "codemirror_mode": {
    "name": "ipython",
    "version": 3
   },
   "file_extension": ".py",
   "mimetype": "text/x-python",
   "name": "python",
   "nbconvert_exporter": "python",
   "pygments_lexer": "ipython3",
   "version": "3.9.7"
  }
 },
 "nbformat": 4,
 "nbformat_minor": 5
}
